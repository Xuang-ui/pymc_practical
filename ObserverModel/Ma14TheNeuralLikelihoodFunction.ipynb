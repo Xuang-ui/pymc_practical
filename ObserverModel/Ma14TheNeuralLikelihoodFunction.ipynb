{
 "cells": [
  {
   "cell_type": "code",
   "execution_count": 10,
   "metadata": {},
   "outputs": [],
   "source": [
    "import numpy as np\n",
    "from matplotlib import pyplot as plt\n",
    "from scipy.stats import norm, lognorm, poisson\n",
    "import pandas as pd\n",
    "from scipy.optimize import minimize"
   ]
  },
  {
   "cell_type": "code",
   "execution_count": 12,
   "metadata": {},
   "outputs": [
    {
     "data": {
      "text/plain": [
       "-48.98030625784382"
      ]
     },
     "execution_count": 12,
     "metadata": {},
     "output_type": "execute_result"
    }
   ],
   "source": [
    "def tunig_curve(s_pref, g = 10, b = 0, sigma_tc = 20):\n",
    "    return lambda s: g * np.exp(-(s - s_pref)**2/2/sigma_tc**2) + b\n",
    "def loglik(s, s_pref, r, g = 10, b = 0, sigma_tc = 20):\n",
    "    fis =  g * np.exp(-(s - s_pref)**2/2/sigma_tc**2) + b\n",
    "    return poisson.logpmf(r, fis)\n",
    "loglik(np.array([0]), np.arange(-40, 50, 10), np.zeros(9)).sum()"
   ]
  },
  {
   "cell_type": "code",
   "execution_count": 43,
   "metadata": {},
   "outputs": [
    {
     "data": {
      "text/plain": [
       "(0.49863150721489924, 0.04001714776376261)"
      ]
     },
     "execution_count": 43,
     "metadata": {},
     "output_type": "execute_result"
    }
   ],
   "source": [
    "def gen(s_pref, s = 0, g = 1, sigma_tc = 10):\n",
    "    fis = g * np.exp(-(s - s_pref)**2/2/sigma_tc**2)\n",
    "    return np.random.poisson(np.tile(fis, (1000, 1)))\n",
    "def cal(s_pref, r, sigma_tc = 10):\n",
    "    mu = abs(r @ s_pref / r.sum(1))\n",
    "    sigma = 10 / r.sum(1)\n",
    "    return mu, sigma\n",
    "s_pref = np.arange(-40, 41)\n",
    "r = gen(s_pref, g = 10)\n",
    "mu, sigma2 = cal(s_pref, r)\n",
    "mu.mean(), sigma2.mean()\n",
    "\n",
    "\n",
    "\n",
    "\n"
   ]
  }
 ],
 "metadata": {
  "kernelspec": {
   "display_name": "mcmc",
   "language": "python",
   "name": "python3"
  },
  "language_info": {
   "codemirror_mode": {
    "name": "ipython",
    "version": 3
   },
   "file_extension": ".py",
   "mimetype": "text/x-python",
   "name": "python",
   "nbconvert_exporter": "python",
   "pygments_lexer": "ipython3",
   "version": "3.12.9"
  }
 },
 "nbformat": 4,
 "nbformat_minor": 2
}
