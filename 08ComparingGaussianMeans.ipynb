{
 "cells": [
  {
   "cell_type": "code",
   "execution_count": 29,
   "metadata": {},
   "outputs": [],
   "source": [
    "# 应该如何对待t检验的null result\n",
    "# 是支持H0还是数据太少不足以拒绝H0\n",
    "\n",
    "import pymc as pm\n",
    "import arviz as az\n",
    "\n",
    "from scipy.stats import beta, gamma, norm, cauchy\n",
    "from matplotlib import pyplot as plt\n",
    "import numpy as np\n",
    "from scipy.stats import gaussian_kde\n",
    "from scipy.optimize import minimize\n",
    "from pytensor import tensor as pt "
   ]
  },
  {
   "cell_type": "markdown",
   "metadata": {},
   "source": [
    "## 8.1 One Sample Comparison\n",
    "\n",
    "虚无假设是 $\\mu = 0$，备择假设是 $\\mu\\neq0$，而 $\\sigma$ 是未知的。\n",
    "\n",
    "效应量effect size是比均值差异更容易进行比较的统计量\n",
    "- 标准差先验分布：柯西分布，$f(x) = \\frac{1}{\\pi(1+x^2)}$，是一个没有期望的厚尾分布\n",
    "- 效应量先验分布：柯西分布，柯西分布是自由度为1的t分布\n",
    "\n"
   ]
  },
  {
   "cell_type": "code",
   "execution_count": 57,
   "metadata": {},
   "outputs": [
    {
     "name": "stderr",
     "output_type": "stream",
     "text": [
      "Initializing NUTS using jitter+adapt_diag...\n",
      "Multiprocess sampling (4 chains in 4 jobs)\n",
      "NUTS: [delta, sigma]\n"
     ]
    },
    {
     "data": {
      "application/vnd.jupyter.widget-view+json": {
       "model_id": "167a03f7adca479199b3f7a450a1d01c",
       "version_major": 2,
       "version_minor": 0
      },
      "text/plain": [
       "Output()"
      ]
     },
     "metadata": {},
     "output_type": "display_data"
    },
    {
     "data": {
      "text/html": [
       "<pre style=\"white-space:pre;overflow-x:auto;line-height:normal;font-family:Menlo,'DejaVu Sans Mono',consolas,'Courier New',monospace\"></pre>\n"
      ],
      "text/plain": []
     },
     "metadata": {},
     "output_type": "display_data"
    },
    {
     "name": "stderr",
     "output_type": "stream",
     "text": [
      "Sampling 4 chains for 1_000 tune and 2_000 draw iterations (4_000 + 8_000 draws total) took 26 seconds.\n"
     ]
    },
    {
     "data": {
      "text/html": [
       "<div>\n",
       "<style scoped>\n",
       "    .dataframe tbody tr th:only-of-type {\n",
       "        vertical-align: middle;\n",
       "    }\n",
       "\n",
       "    .dataframe tbody tr th {\n",
       "        vertical-align: top;\n",
       "    }\n",
       "\n",
       "    .dataframe thead th {\n",
       "        text-align: right;\n",
       "    }\n",
       "</style>\n",
       "<table border=\"1\" class=\"dataframe\">\n",
       "  <thead>\n",
       "    <tr style=\"text-align: right;\">\n",
       "      <th></th>\n",
       "      <th>mean</th>\n",
       "      <th>sd</th>\n",
       "      <th>hdi_3%</th>\n",
       "      <th>hdi_97%</th>\n",
       "      <th>mcse_mean</th>\n",
       "      <th>mcse_sd</th>\n",
       "      <th>ess_bulk</th>\n",
       "      <th>ess_tail</th>\n",
       "      <th>r_hat</th>\n",
       "    </tr>\n",
       "  </thead>\n",
       "  <tbody>\n",
       "    <tr>\n",
       "      <th>delta</th>\n",
       "      <td>0.003</td>\n",
       "      <td>0.399</td>\n",
       "      <td>-0.700</td>\n",
       "      <td>0.796</td>\n",
       "      <td>0.005</td>\n",
       "      <td>0.005</td>\n",
       "      <td>6632.0</td>\n",
       "      <td>4832.0</td>\n",
       "      <td>1.0</td>\n",
       "    </tr>\n",
       "    <tr>\n",
       "      <th>sigma</th>\n",
       "      <td>1.580</td>\n",
       "      <td>0.567</td>\n",
       "      <td>0.748</td>\n",
       "      <td>2.603</td>\n",
       "      <td>0.007</td>\n",
       "      <td>0.012</td>\n",
       "      <td>6809.0</td>\n",
       "      <td>5028.0</td>\n",
       "      <td>1.0</td>\n",
       "    </tr>\n",
       "    <tr>\n",
       "      <th>mu</th>\n",
       "      <td>0.006</td>\n",
       "      <td>0.673</td>\n",
       "      <td>-1.286</td>\n",
       "      <td>1.292</td>\n",
       "      <td>0.008</td>\n",
       "      <td>0.010</td>\n",
       "      <td>7125.0</td>\n",
       "      <td>5592.0</td>\n",
       "      <td>1.0</td>\n",
       "    </tr>\n",
       "  </tbody>\n",
       "</table>\n",
       "</div>"
      ],
      "text/plain": [
       "        mean     sd  hdi_3%  hdi_97%  mcse_mean  mcse_sd  ess_bulk  ess_tail  \\\n",
       "delta  0.003  0.399  -0.700    0.796      0.005    0.005    6632.0    4832.0   \n",
       "sigma  1.580  0.567   0.748    2.603      0.007    0.012    6809.0    5028.0   \n",
       "mu     0.006  0.673  -1.286    1.292      0.008    0.010    7125.0    5592.0   \n",
       "\n",
       "       r_hat  \n",
       "delta    1.0  \n",
       "sigma    1.0  \n",
       "mu       1.0  "
      ]
     },
     "execution_count": 57,
     "metadata": {},
     "output_type": "execute_result"
    }
   ],
   "source": [
    "x_obs = np.array([0, 2, -2, -1, 1]) # 无效应的例子\n",
    "with pm.Model() as OneSampleComp:\n",
    "    delta = pm.Cauchy('delta', alpha = 0, beta = 1)\n",
    "    sigma = pm.HalfCauchy('sigma', beta = 1)\n",
    "    mu = pm.Deterministic('mu', delta * sigma)\n",
    "    x_obs = pm.Normal('x', mu = mu, sigma = sigma, observed = x_obs)\n",
    "    trace = pm.sample(2000)\n",
    "az.summary(trace)\n"
   ]
  },
  {
   "cell_type": "code",
   "execution_count": 58,
   "metadata": {},
   "outputs": [
    {
     "data": {
      "text/plain": [
       "<matplotlib.legend.Legend at 0x1935f61e0>"
      ]
     },
     "execution_count": 58,
     "metadata": {},
     "output_type": "execute_result"
    },
    {
     "data": {
      "image/png": "[encoded data removed]",
      "text/plain": [
       "<Figure size 640x480 with 1 Axes>"
      ]
     },
     "metadata": {},
     "output_type": "display_data"
    }
   ],
   "source": [
    "x_test = np.arange(-5, 5, 0.1)\n",
    "prior_pdf = cauchy.pdf\n",
    "posterior_pdf = gaussian_kde(trace.posterior['delta'].values.flatten())\n",
    "plt.plot(x_test, prior_pdf(x_test), label = 'prior dist')\n",
    "plt.plot(x_test, posterior_pdf(x_test), label = 'posterior dist')\n",
    "plt.plot([0, 0], [prior_pdf(0), posterior_pdf(0)[0]])\n",
    "plt.title(f'$BF{10}$ = {prior_pdf(0) / posterior_pdf(0)[0]:.3f}')\n",
    "plt.legend()\n"
   ]
  },
  {
   "cell_type": "code",
   "execution_count": 59,
   "metadata": {},
   "outputs": [
    {
     "name": "stderr",
     "output_type": "stream",
     "text": [
      "Initializing NUTS using jitter+adapt_diag...\n",
      "Multiprocess sampling (4 chains in 4 jobs)\n",
      "NUTS: [delta, lamb]\n"
     ]
    },
    {
     "data": {
      "application/vnd.jupyter.widget-view+json": {
       "model_id": "f1b1ca90b13546acba94b45e35c3a7f6",
       "version_major": 2,
       "version_minor": 0
      },
      "text/plain": [
       "Output()"
      ]
     },
     "metadata": {},
     "output_type": "display_data"
    },
    {
     "data": {
      "text/html": [
       "<pre style=\"white-space:pre;overflow-x:auto;line-height:normal;font-family:Menlo,'DejaVu Sans Mono',consolas,'Courier New',monospace\"></pre>\n"
      ],
      "text/plain": []
     },
     "metadata": {},
     "output_type": "display_data"
    },
    {
     "name": "stderr",
     "output_type": "stream",
     "text": [
      "Sampling 4 chains for 1_000 tune and 2_000 draw iterations (4_000 + 8_000 draws total) took 26 seconds.\n"
     ]
    },
    {
     "data": {
      "text/html": [
       "<div>\n",
       "<style scoped>\n",
       "    .dataframe tbody tr th:only-of-type {\n",
       "        vertical-align: middle;\n",
       "    }\n",
       "\n",
       "    .dataframe tbody tr th {\n",
       "        vertical-align: top;\n",
       "    }\n",
       "\n",
       "    .dataframe thead th {\n",
       "        text-align: right;\n",
       "    }\n",
       "</style>\n",
       "<table border=\"1\" class=\"dataframe\">\n",
       "  <thead>\n",
       "    <tr style=\"text-align: right;\">\n",
       "      <th></th>\n",
       "      <th>mean</th>\n",
       "      <th>sd</th>\n",
       "      <th>hdi_3%</th>\n",
       "      <th>hdi_97%</th>\n",
       "      <th>mcse_mean</th>\n",
       "      <th>mcse_sd</th>\n",
       "      <th>ess_bulk</th>\n",
       "      <th>ess_tail</th>\n",
       "      <th>r_hat</th>\n",
       "    </tr>\n",
       "  </thead>\n",
       "  <tbody>\n",
       "    <tr>\n",
       "      <th>delta</th>\n",
       "      <td>-0.001</td>\n",
       "      <td>0.401</td>\n",
       "      <td>-0.741</td>\n",
       "      <td>0.777</td>\n",
       "      <td>0.005</td>\n",
       "      <td>0.005</td>\n",
       "      <td>6336.0</td>\n",
       "      <td>4931.0</td>\n",
       "      <td>1.0</td>\n",
       "    </tr>\n",
       "    <tr>\n",
       "      <th>lamb</th>\n",
       "      <td>0.498</td>\n",
       "      <td>0.310</td>\n",
       "      <td>0.037</td>\n",
       "      <td>1.063</td>\n",
       "      <td>0.004</td>\n",
       "      <td>0.005</td>\n",
       "      <td>6076.0</td>\n",
       "      <td>4489.0</td>\n",
       "      <td>1.0</td>\n",
       "    </tr>\n",
       "    <tr>\n",
       "      <th>mu</th>\n",
       "      <td>-0.004</td>\n",
       "      <td>0.737</td>\n",
       "      <td>-1.416</td>\n",
       "      <td>1.343</td>\n",
       "      <td>0.009</td>\n",
       "      <td>0.024</td>\n",
       "      <td>6848.0</td>\n",
       "      <td>5346.0</td>\n",
       "      <td>1.0</td>\n",
       "    </tr>\n",
       "  </tbody>\n",
       "</table>\n",
       "</div>"
      ],
      "text/plain": [
       "        mean     sd  hdi_3%  hdi_97%  mcse_mean  mcse_sd  ess_bulk  ess_tail  \\\n",
       "delta -0.001  0.401  -0.741    0.777      0.005    0.005    6336.0    4931.0   \n",
       "lamb   0.498  0.310   0.037    1.063      0.004    0.005    6076.0    4489.0   \n",
       "mu    -0.004  0.737  -1.416    1.343      0.009    0.024    6848.0    5346.0   \n",
       "\n",
       "       r_hat  \n",
       "delta    1.0  \n",
       "lamb     1.0  \n",
       "mu       1.0  "
      ]
     },
     "execution_count": 59,
     "metadata": {},
     "output_type": "execute_result"
    }
   ],
   "source": [
    "# Exercise 8.1.2\n",
    "## sigma改成使用一个beta分布\n",
    "x_obs = np.array([0, 2, -2, -1, 1]) # 无效应的例子\n",
    "with pm.Model() as OneSampleComp:\n",
    "    delta = pm.Cauchy('delta', alpha = 0, beta = 1)\n",
    "    lamb = pm.Gamma('lamb', alpha = 0.001, beta = 0.001)\n",
    "    mu = pm.Deterministic('mu', delta / lamb**0.5)\n",
    "    x_obs = pm.Normal('x', mu = mu, tau = lamb, observed = x_obs)\n",
    "    trace = pm.sample(2000)\n",
    "az.summary(trace)\n",
    "x_test = np.arange(-5, 5, 0.1)\n",
    "prior_pdf = cauchy.pdf\n",
    "posterior_pdf = gaussian_kde(trace.posterior['delta'].values.flatten())\n",
    "plt.plot(x_test, prior_pdf(x_test), label = 'prior dist')\n",
    "plt.plot(x_test, posterior_pdf(x_test), label = 'posterior dist')\n",
    "plt.plot([0, 0], [prior_pdf(0), posterior_pdf(0)[0]])\n",
    "plt.title(f'$BF{10}$ = {prior_pdf(0) / posterior_pdf(0)[0]:.3f}')\n",
    "plt.legend()\n"
   ]
  },
  {
   "cell_type": "code",
   "execution_count": 61,
   "metadata": {},
   "outputs": [
    {
     "name": "stderr",
     "output_type": "stream",
     "text": [
      "Initializing NUTS using jitter+adapt_diag...\n",
      "Multiprocess sampling (4 chains in 4 jobs)\n",
      "NUTS: [delta, sigma]\n"
     ]
    },
    {
     "data": {
      "application/vnd.jupyter.widget-view+json": {
       "model_id": "d3c000d1fb764961ae46c06f9ef96fda",
       "version_major": 2,
       "version_minor": 0
      },
      "text/plain": [
       "Output()"
      ]
     },
     "metadata": {},
     "output_type": "display_data"
    },
    {
     "data": {
      "text/html": [
       "<pre style=\"white-space:pre;overflow-x:auto;line-height:normal;font-family:Menlo,'DejaVu Sans Mono',consolas,'Courier New',monospace\"></pre>\n"
      ],
      "text/plain": []
     },
     "metadata": {},
     "output_type": "display_data"
    },
    {
     "name": "stderr",
     "output_type": "stream",
     "text": [
      "Sampling 4 chains for 1_000 tune and 2_000 draw iterations (4_000 + 8_000 draws total) took 29 seconds.\n",
      "There were 1 divergences after tuning. Increase `target_accept` or reparameterize.\n"
     ]
    },
    {
     "data": {
      "text/plain": [
       "<matplotlib.legend.Legend at 0x1941da8d0>"
      ]
     },
     "execution_count": 61,
     "metadata": {},
     "output_type": "execute_result"
    },
    {
     "data": {
      "image/png": "[encoded data removed]",
      "text/plain": [
       "<Figure size 640x480 with 1 Axes>"
      ]
     },
     "metadata": {},
     "output_type": "display_data"
    }
   ],
   "source": [
    "x_obs = np.array([0, 2, -2, -1, 1]) # 无效应的例子\n",
    "with pm.Model() as OneSampleComp:\n",
    "    delta = pm.Cauchy('delta', alpha = 0, beta = 1)\n",
    "    sigma = pm.Uniform('sigma', lower = 0, upper = 5)\n",
    "    mu = pm.Deterministic('mu', delta * sigma)\n",
    "    x_obs = pm.Normal('x', mu = mu, sigma = sigma, observed = x_obs)\n",
    "    trace = pm.sample(2000)\n",
    "x_test = np.arange(-5, 5, 0.1)\n",
    "prior_pdf = cauchy.pdf\n",
    "posterior_pdf = gaussian_kde(trace.posterior['delta'].values.flatten())\n",
    "plt.plot(x_test, prior_pdf(x_test), label = 'prior dist')\n",
    "plt.plot(x_test, posterior_pdf(x_test), label = 'posterior dist')\n",
    "plt.plot([0, 0], [prior_pdf(0), posterior_pdf(0)[0]])\n",
    "plt.title(f'$BF{10}$ = {prior_pdf(0) / posterior_pdf(0)[0]:.3f}')\n",
    "plt.legend()\n"
   ]
  },
  {
   "cell_type": "code",
   "execution_count": 62,
   "metadata": {},
   "outputs": [
    {
     "name": "stderr",
     "output_type": "stream",
     "text": [
      "Initializing NUTS using jitter+adapt_diag...\n",
      "Multiprocess sampling (4 chains in 4 jobs)\n",
      "NUTS: [delta, sigma]\n"
     ]
    },
    {
     "data": {
      "application/vnd.jupyter.widget-view+json": {
       "model_id": "78b78c091a3243dabb30fa8ac613a4a4",
       "version_major": 2,
       "version_minor": 0
      },
      "text/plain": [
       "Output()"
      ]
     },
     "metadata": {},
     "output_type": "display_data"
    },
    {
     "data": {
      "text/html": [
       "<pre style=\"white-space:pre;overflow-x:auto;line-height:normal;font-family:Menlo,'DejaVu Sans Mono',consolas,'Courier New',monospace\"></pre>\n"
      ],
      "text/plain": []
     },
     "metadata": {},
     "output_type": "display_data"
    },
    {
     "name": "stderr",
     "output_type": "stream",
     "text": [
      "Sampling 4 chains for 1_000 tune and 2_000 draw iterations (4_000 + 8_000 draws total) took 38 seconds.\n"
     ]
    },
    {
     "data": {
      "text/plain": [
       "<matplotlib.legend.Legend at 0x19463fa40>"
      ]
     },
     "execution_count": 62,
     "metadata": {},
     "output_type": "execute_result"
    },
    {
     "data": {
      "image/png": "[encoded data removed]",
      "text/plain": [
       "<Figure size 640x480 with 1 Axes>"
      ]
     },
     "metadata": {},
     "output_type": "display_data"
    }
   ],
   "source": [
    "# Exercise 8.1.3\n",
    "## 效应量改成正态分布，一开始就假设了绝对值更小的效应量\n",
    "x_obs = np.array([0, 2, -2, -1, 1]) # 无效应的例子\n",
    "with pm.Model() as OneSampleComp:\n",
    "    delta = pm.Normal('delta', mu = 0, sigma = 1)\n",
    "    sigma = pm.HalfCauchy('sigma', beta = 1)\n",
    "    mu = pm.Deterministic('mu', delta * sigma)\n",
    "    x_obs = pm.Normal('x', mu = mu, sigma = sigma, observed = x_obs)\n",
    "    trace = pm.sample(2000)\n",
    "az.summary(trace)\n",
    "x_test = np.arange(-5, 5, 0.1)\n",
    "prior_pdf = cauchy.pdf\n",
    "posterior_pdf = gaussian_kde(trace.posterior['delta'].values.flatten())\n",
    "plt.plot(x_test, prior_pdf(x_test), label = 'prior dist')\n",
    "plt.plot(x_test, posterior_pdf(x_test), label = 'posterior dist')\n",
    "plt.plot([0, 0], [prior_pdf(0), posterior_pdf(0)[0]])\n",
    "plt.title(f'$BF{10}$ = {prior_pdf(0) / posterior_pdf(0)[0]:.3f}')\n",
    "plt.legend()"
   ]
  },
  {
   "cell_type": "code",
   "execution_count": 84,
   "metadata": {},
   "outputs": [
    {
     "name": "stderr",
     "output_type": "stream",
     "text": [
      "Initializing NUTS using jitter+adapt_diag...\n",
      "Multiprocess sampling (4 chains in 4 jobs)\n",
      "NUTS: [delta, sigma]\n"
     ]
    },
    {
     "data": {
      "application/vnd.jupyter.widget-view+json": {
       "model_id": "64cac6c9c5b44b198247dc29468fee38",
       "version_major": 2,
       "version_minor": 0
      },
      "text/plain": [
       "Output()"
      ]
     },
     "metadata": {},
     "output_type": "display_data"
    },
    {
     "data": {
      "text/html": [
       "<pre style=\"white-space:pre;overflow-x:auto;line-height:normal;font-family:Menlo,'DejaVu Sans Mono',consolas,'Courier New',monospace\"></pre>\n"
      ],
      "text/plain": []
     },
     "metadata": {},
     "output_type": "display_data"
    },
    {
     "name": "stderr",
     "output_type": "stream",
     "text": [
      "Sampling 4 chains for 1_000 tune and 2_000 draw iterations (4_000 + 8_000 draws total) took 39 seconds.\n"
     ]
    },
    {
     "data": {
      "text/plain": [
       "<matplotlib.legend.Legend at 0x1937ab500>"
      ]
     },
     "execution_count": 84,
     "metadata": {},
     "output_type": "execute_result"
    },
    {
     "data": {
      "image/png": "[encoded data removed]",
      "text/plain": [
       "<Figure size 640x480 with 1 Axes>"
      ]
     },
     "metadata": {},
     "output_type": "display_data"
    }
   ],
   "source": [
    "# 单样本检验在不同模型上的例子\n",
    "x_obs = np.array([0, 2, -2, -1, 1]) + 2 # 有效应的例子\n",
    "with pm.Model() as OneSampleComp:\n",
    "    delta = pm.Cauchy('delta', alpha = 0, beta = 1)\n",
    "    sigma = pm.HalfCauchy('sigma', beta = 1)\n",
    "    mu = pm.Deterministic('mu', delta * sigma)\n",
    "    x_obs = pm.Normal('x', mu = mu, sigma = sigma, observed = x_obs)\n",
    "    trace = pm.sample(2000)\n",
    "az.summary(trace)\n",
    "x_test = np.arange(-5, 5, 0.1)\n",
    "prior_pdf = cauchy.pdf\n",
    "posterior_pdf = gaussian_kde(trace.posterior['delta'].values.flatten())\n",
    "plt.plot(x_test, prior_pdf(x_test), label = 'prior dist')\n",
    "plt.plot(x_test, posterior_pdf(x_test), label = 'posterior dist')\n",
    "plt.plot([0, 0], [prior_pdf(0), posterior_pdf(0)[0]])\n",
    "plt.title(f'$BF{10}$ = {prior_pdf(0) / posterior_pdf(0)[0]:.3f}')\n",
    "plt.legend()"
   ]
  },
  {
   "cell_type": "markdown",
   "metadata": {},
   "source": [
    "## 8.2 One Sample Ordered Comparison\n",
    "\n",
    "如果备择假设是效应量 $\\delta$ 只能是负的呢？很自然的假设就是负的先验分布\n",
    "- 这里值得注意的是，H0和H1似乎不再需要是互补的了"
   ]
  },
  {
   "cell_type": "code",
   "execution_count": 66,
   "metadata": {},
   "outputs": [
    {
     "name": "stderr",
     "output_type": "stream",
     "text": [
      "Initializing NUTS using jitter+adapt_diag...\n",
      "Multiprocess sampling (4 chains in 4 jobs)\n",
      "NUTS: [delta, sigma]\n"
     ]
    },
    {
     "data": {
      "application/vnd.jupyter.widget-view+json": {
       "model_id": "38e4b6ce72164cabbf60bb7e72aab74c",
       "version_major": 2,
       "version_minor": 0
      },
      "text/plain": [
       "Output()"
      ]
     },
     "metadata": {},
     "output_type": "display_data"
    },
    {
     "data": {
      "text/html": [
       "<pre style=\"white-space:pre;overflow-x:auto;line-height:normal;font-family:Menlo,'DejaVu Sans Mono',consolas,'Courier New',monospace\"></pre>\n"
      ],
      "text/plain": []
     },
     "metadata": {},
     "output_type": "display_data"
    },
    {
     "name": "stderr",
     "output_type": "stream",
     "text": [
      "Sampling 4 chains for 1_000 tune and 2_000 draw iterations (4_000 + 8_000 draws total) took 24 seconds.\n",
      "There were 2 divergences after tuning. Increase `target_accept` or reparameterize.\n"
     ]
    }
   ],
   "source": [
    "x_obs = np.array([0, 2, -2, -1, 1]) + 2 # 有效应的例子\n",
    "with pm.Model() as OneSampleOrdered:\n",
    "    delta = pm.HalfCauchy('delta', beta = 1)\n",
    "    sigma = pm.HalfCauchy('sigma', beta = 1)\n",
    "    mu = pm.Deterministic('mu', delta * sigma)\n",
    "    x_obs = pm.Normal('x', mu = mu, sigma = sigma, observed = x_obs)\n",
    "    trace = pm.sample(2000)\n",
    "az.summary(trace)"
   ]
  },
  {
   "cell_type": "code",
   "execution_count": 68,
   "metadata": {},
   "outputs": [
    {
     "data": {
      "text/plain": [
       "<matplotlib.legend.Legend at 0x194087a40>"
      ]
     },
     "execution_count": 68,
     "metadata": {},
     "output_type": "execute_result"
    },
    {
     "data": {
      "image/png": "[encoded data removed]",
      "text/plain": [
       "<Figure size 640x480 with 1 Axes>"
      ]
     },
     "metadata": {},
     "output_type": "display_data"
    }
   ],
   "source": [
    "# 当固定方向后，BF从2.797增加到4.883\n",
    "x_test = np.arange(-5, 5, 0.1)\n",
    "prior_pdf = cauchy.pdf\n",
    "posterior_pdf = gaussian_kde(trace.posterior['delta'].values.flatten())\n",
    "plt.plot(x_test, prior_pdf(x_test), label = 'prior dist')\n",
    "plt.plot(x_test, posterior_pdf(x_test), label = 'posterior dist')\n",
    "plt.plot([0, 0], [prior_pdf(0), posterior_pdf(0)[0]])\n",
    "plt.title(f'$BF{10}$ = {prior_pdf(0) / posterior_pdf(0)[0]:.3f}')\n",
    "plt.legend()"
   ]
  },
  {
   "cell_type": "code",
   "execution_count": 72,
   "metadata": {},
   "outputs": [
    {
     "name": "stderr",
     "output_type": "stream",
     "text": [
      "Initializing NUTS using jitter+adapt_diag...\n",
      "Multiprocess sampling (4 chains in 4 jobs)\n",
      "NUTS: [pos_delta, sigma]\n"
     ]
    },
    {
     "data": {
      "application/vnd.jupyter.widget-view+json": {
       "model_id": "2a119da23a0941a1a5fd324147ee6ea0",
       "version_major": 2,
       "version_minor": 0
      },
      "text/plain": [
       "Output()"
      ]
     },
     "metadata": {},
     "output_type": "display_data"
    },
    {
     "data": {
      "text/html": [
       "<pre style=\"white-space:pre;overflow-x:auto;line-height:normal;font-family:Menlo,'DejaVu Sans Mono',consolas,'Courier New',monospace\"></pre>\n"
      ],
      "text/plain": []
     },
     "metadata": {},
     "output_type": "display_data"
    },
    {
     "name": "stderr",
     "output_type": "stream",
     "text": [
      "Sampling 4 chains for 1_000 tune and 2_000 draw iterations (4_000 + 8_000 draws total) took 30 seconds.\n",
      "There were 22 divergences after tuning. Increase `target_accept` or reparameterize.\n"
     ]
    },
    {
     "data": {
      "text/plain": [
       "<matplotlib.legend.Legend at 0x191007a40>"
      ]
     },
     "execution_count": 72,
     "metadata": {},
     "output_type": "execute_result"
    },
    {
     "data": {
      "image/png": "[encoded data removed]",
      "text/plain": [
       "<Figure size 640x480 with 1 Axes>"
      ]
     },
     "metadata": {},
     "output_type": "display_data"
    }
   ],
   "source": [
    "# Exercise 8.2.1\n",
    "## 我们发现改用另一侧，BF变成0.144，中等支持原假设，方向很重要\n",
    "x_obs = np.array([0, 2, -2, -1, 1]) + 2 # 有效应的例子\n",
    "with pm.Model() as OneSampleOrdered:\n",
    "    pos_delta = pm.HalfCauchy('pos_delta', beta = 1)\n",
    "    delta = pm.Deterministic('delta', -pos_delta)\n",
    "    sigma = pm.HalfCauchy('sigma', beta = 1)\n",
    "    mu = pm.Deterministic('mu', delta * sigma)\n",
    "    x_obs = pm.Normal('x', mu = mu, sigma = sigma, observed = x_obs)\n",
    "    trace = pm.sample(2000)\n",
    "az.summary(trace)\n",
    "x_test = np.arange(-5, 5, 0.1)\n",
    "prior_pdf = cauchy.pdf\n",
    "posterior_pdf = gaussian_kde(trace.posterior['delta'].values.flatten())\n",
    "plt.plot(x_test, prior_pdf(x_test), label = 'prior dist')\n",
    "plt.plot(x_test, posterior_pdf(x_test), label = 'posterior dist')\n",
    "plt.plot([0, 0], [prior_pdf(0), posterior_pdf(0)[0]])\n",
    "plt.title(f'$BF{10}$ = {prior_pdf(0) / posterior_pdf(0)[0]:.3f}')\n",
    "plt.legend()"
   ]
  },
  {
   "cell_type": "code",
   "execution_count": 73,
   "metadata": {},
   "outputs": [
    {
     "name": "stderr",
     "output_type": "stream",
     "text": [
      "Initializing NUTS using jitter+adapt_diag...\n",
      "Multiprocess sampling (4 chains in 4 jobs)\n",
      "NUTS: [delta, sigma]\n"
     ]
    },
    {
     "data": {
      "application/vnd.jupyter.widget-view+json": {
       "model_id": "8e4f88dbe09245349c041f2f1c21c4a1",
       "version_major": 2,
       "version_minor": 0
      },
      "text/plain": [
       "Output()"
      ]
     },
     "metadata": {},
     "output_type": "display_data"
    },
    {
     "data": {
      "text/html": [
       "<pre style=\"white-space:pre;overflow-x:auto;line-height:normal;font-family:Menlo,'DejaVu Sans Mono',consolas,'Courier New',monospace\"></pre>\n"
      ],
      "text/plain": []
     },
     "metadata": {},
     "output_type": "display_data"
    },
    {
     "name": "stderr",
     "output_type": "stream",
     "text": [
      "Sampling 4 chains for 1_000 tune and 2_000 draw iterations (4_000 + 8_000 draws total) took 27 seconds.\n"
     ]
    }
   ],
   "source": [
    "# 单样本检验在不同模型上的例子\n",
    "x_obs = np.array([0, 2, -2, -1, 1]) + 2 # 有效应的例子\n",
    "with pm.Model() as OneSampleComp:\n",
    "    delta = pm.Cauchy('delta', alpha = 0, beta = 1)\n",
    "    sigma = pm.HalfCauchy('sigma', beta = 1)\n",
    "    mu = pm.Deterministic('mu', delta * sigma)\n",
    "    x_obs = pm.Normal('x', mu = mu, sigma = sigma, observed = x_obs)\n",
    "    trace = pm.sample(2000)\n",
    "# az.summary(trace)\n",
    "# x_test = np.arange(-5, 5, 0.1)\n",
    "# prior_pdf = cauchy.pdf\n",
    "# posterior_pdf = gaussian_kde(trace.posterior['delta'].values.flatten())\n",
    "# plt.plot(x_test, prior_pdf(x_test), label = 'prior dist')\n",
    "# plt.plot(x_test, posterior_pdf(x_test), label = 'posterior dist')\n",
    "# plt.plot([0, 0], [prior_pdf(0), posterior_pdf(0)[0]])\n",
    "# plt.title(f'$BF{10}$ = {prior_pdf(0) / posterior_pdf(0)[0]:.3f}')\n",
    "# plt.legend()"
   ]
  },
  {
   "cell_type": "code",
   "execution_count": 95,
   "metadata": {},
   "outputs": [
    {
     "data": {
      "text/plain": [
       "(3.126517368797106, 6.1334454482377225, 0.11958928935648931)"
      ]
     },
     "execution_count": 95,
     "metadata": {},
     "output_type": "execute_result"
    }
   ],
   "source": [
    "# Exercise 8.2.3 \n",
    "## 使用积分算法解决Ordered问题\n",
    "prior_at_0 = cauchy.pdf(0)\n",
    "delta_trace = trace.posterior['delta'].values.flatten()\n",
    "posterior_at_0 = gaussian_kde(delta_trace)(0)[0]\n",
    "BF_NP = prior_at_0 / posterior_at_0\n",
    "BF_P = (prior_at_0 * 2) / (posterior_at_0 / (delta_trace >= 0).mean())\n",
    "BF_N = (prior_at_0 * 2) / (posterior_at_0 / (delta_trace <= 0).mean())\n",
    "BF_NP, BF_P, BF_N #这个结果没有期望的那么稳定"
   ]
  },
  {
   "cell_type": "markdown",
   "metadata": {},
   "source": [
    "## 8.3 Two Sample Comparison\n",
    "没有很具体的讲背景知识，只是很直接的在方差齐性条件下做独立样本t检验了\n"
   ]
  },
  {
   "cell_type": "code",
   "execution_count": 110,
   "metadata": {},
   "outputs": [],
   "source": [
    "x_obs, y_obs = np.random.normal(0, 1, 10), np.random.normal(1, 2, 10)"
   ]
  },
  {
   "cell_type": "code",
   "execution_count": 114,
   "metadata": {},
   "outputs": [
    {
     "data": {
      "text/plain": [
       "(-0.12441185662621838,\n",
       " 0.9682956811257522,\n",
       " 0.44662123753176425,\n",
       " 1.8606430599948989)"
      ]
     },
     "execution_count": 114,
     "metadata": {},
     "output_type": "execute_result"
    }
   ],
   "source": [
    "x_obs.mean(), x_obs.std(), y_obs.mean(), y_obs.std()"
   ]
  },
  {
   "cell_type": "code",
   "execution_count": 115,
   "metadata": {},
   "outputs": [
    {
     "data": {
      "image/svg+xml": [
       "<?xml version=\"1.0\" encoding=\"UTF-8\" standalone=\"no\"?>\n",
       "<!DOCTYPE svg PUBLIC \"-//W3C//DTD SVG 1.1//EN\"\n",
       " \"http://www.w3.org/Graphics/SVG/1.1/DTD/svg11.dtd\">\n",
       "<!-- Generated by graphviz version 12.2.1 (0)\n",
       " -->\n",
       "<!-- Pages: 1 -->\n",
       "<svg width=\"283pt\" height=\"364pt\"\n",
       " viewBox=\"0.00 0.00 283.48 364.45\" xmlns=\"http://www.w3.org/2000/svg\" xmlns:xlink=\"http://www.w3.org/1999/xlink\">\n",
       "<g id=\"graph0\" class=\"graph\" transform=\"scale(1 1) rotate(0) translate(4 360.45)\">\n",
       "<polygon fill=\"white\" stroke=\"none\" points=\"-4,4 -4,-360.45 279.48,-360.45 279.48,4 -4,4\"/>\n",
       "<g id=\"clust1\" class=\"cluster\">\n",
       "<title>cluster10</title>\n",
       "<path fill=\"none\" stroke=\"black\" d=\"M20,-8C20,-8 194,-8 194,-8 200,-8 206,-14 206,-20 206,-20 206,-117.82 206,-117.82 206,-123.82 200,-129.82 194,-129.82 194,-129.82 20,-129.82 20,-129.82 14,-129.82 8,-123.82 8,-117.82 8,-117.82 8,-20 8,-20 8,-14 14,-8 20,-8\"/>\n",
       "<text text-anchor=\"middle\" x=\"191.25\" y=\"-15.2\" font-family=\"Times,serif\" font-size=\"14.00\">10</text>\n",
       "</g>\n",
       "<!-- sigma -->\n",
       "<g id=\"node1\" class=\"node\">\n",
       "<title>sigma</title>\n",
       "<ellipse fill=\"none\" stroke=\"black\" cx=\"119\" cy=\"-315.79\" rx=\"57.45\" ry=\"40.66\"/>\n",
       "<text text-anchor=\"middle\" x=\"119\" y=\"-327.24\" font-family=\"Times,serif\" font-size=\"14.00\">sigma</text>\n",
       "<text text-anchor=\"middle\" x=\"119\" y=\"-310.74\" font-family=\"Times,serif\" font-size=\"14.00\">~</text>\n",
       "<text text-anchor=\"middle\" x=\"119\" y=\"-294.24\" font-family=\"Times,serif\" font-size=\"14.00\">HalfCauchy</text>\n",
       "</g>\n",
       "<!-- alpha -->\n",
       "<g id=\"node3\" class=\"node\">\n",
       "<title>alpha</title>\n",
       "<polygon fill=\"none\" stroke=\"black\" points=\"259.12,-227.23 168.88,-227.23 168.88,-169.73 259.12,-169.73 259.12,-227.23\"/>\n",
       "<text text-anchor=\"middle\" x=\"214\" y=\"-209.93\" font-family=\"Times,serif\" font-size=\"14.00\">alpha</text>\n",
       "<text text-anchor=\"middle\" x=\"214\" y=\"-193.43\" font-family=\"Times,serif\" font-size=\"14.00\">~</text>\n",
       "<text text-anchor=\"middle\" x=\"214\" y=\"-176.93\" font-family=\"Times,serif\" font-size=\"14.00\">Deterministic</text>\n",
       "</g>\n",
       "<!-- sigma&#45;&gt;alpha -->\n",
       "<g id=\"edge1\" class=\"edge\">\n",
       "<title>sigma&#45;&gt;alpha</title>\n",
       "<path fill=\"none\" stroke=\"black\" d=\"M147.5,-280.19C159,-266.24 172.27,-250.13 183.92,-235.99\"/>\n",
       "<polygon fill=\"black\" stroke=\"black\" points=\"186.32,-238.58 189.97,-228.64 180.91,-234.13 186.32,-238.58\"/>\n",
       "</g>\n",
       "<!-- y -->\n",
       "<g id=\"node5\" class=\"node\">\n",
       "<title>y</title>\n",
       "<ellipse fill=\"lightgrey\" stroke=\"black\" cx=\"57\" cy=\"-81.16\" rx=\"41.01\" ry=\"40.66\"/>\n",
       "<text text-anchor=\"middle\" x=\"57\" y=\"-92.61\" font-family=\"Times,serif\" font-size=\"14.00\">y</text>\n",
       "<text text-anchor=\"middle\" x=\"57\" y=\"-76.11\" font-family=\"Times,serif\" font-size=\"14.00\">~</text>\n",
       "<text text-anchor=\"middle\" x=\"57\" y=\"-59.61\" font-family=\"Times,serif\" font-size=\"14.00\">Normal</text>\n",
       "</g>\n",
       "<!-- sigma&#45;&gt;y -->\n",
       "<g id=\"edge6\" class=\"edge\">\n",
       "<title>sigma&#45;&gt;y</title>\n",
       "<path fill=\"none\" stroke=\"black\" d=\"M73.37,-290.77C54.42,-278.16 34.44,-260.79 24,-239.13 6.93,-203.71 18.73,-159.6 32.75,-127.17\"/>\n",
       "<polygon fill=\"black\" stroke=\"black\" points=\"35.76,-129 36.72,-118.45 29.39,-126.1 35.76,-129\"/>\n",
       "</g>\n",
       "<!-- x -->\n",
       "<g id=\"node6\" class=\"node\">\n",
       "<title>x</title>\n",
       "<ellipse fill=\"lightgrey\" stroke=\"black\" cx=\"157\" cy=\"-81.16\" rx=\"41.01\" ry=\"40.66\"/>\n",
       "<text text-anchor=\"middle\" x=\"157\" y=\"-92.61\" font-family=\"Times,serif\" font-size=\"14.00\">x</text>\n",
       "<text text-anchor=\"middle\" x=\"157\" y=\"-76.11\" font-family=\"Times,serif\" font-size=\"14.00\">~</text>\n",
       "<text text-anchor=\"middle\" x=\"157\" y=\"-59.61\" font-family=\"Times,serif\" font-size=\"14.00\">Normal</text>\n",
       "</g>\n",
       "<!-- sigma&#45;&gt;x -->\n",
       "<g id=\"edge3\" class=\"edge\">\n",
       "<title>sigma&#45;&gt;x</title>\n",
       "<path fill=\"none\" stroke=\"black\" d=\"M125.49,-275.07C131.9,-235.84 141.72,-175.69 148.7,-132.99\"/>\n",
       "<polygon fill=\"black\" stroke=\"black\" points=\"152.14,-133.65 150.29,-123.22 145.23,-132.52 152.14,-133.65\"/>\n",
       "</g>\n",
       "<!-- mu -->\n",
       "<g id=\"node2\" class=\"node\">\n",
       "<title>mu</title>\n",
       "<ellipse fill=\"none\" stroke=\"black\" cx=\"73\" cy=\"-198.48\" rx=\"40.48\" ry=\"40.66\"/>\n",
       "<text text-anchor=\"middle\" x=\"73\" y=\"-209.93\" font-family=\"Times,serif\" font-size=\"14.00\">mu</text>\n",
       "<text text-anchor=\"middle\" x=\"73\" y=\"-193.43\" font-family=\"Times,serif\" font-size=\"14.00\">~</text>\n",
       "<text text-anchor=\"middle\" x=\"73\" y=\"-176.93\" font-family=\"Times,serif\" font-size=\"14.00\">Cauchy</text>\n",
       "</g>\n",
       "<!-- mu&#45;&gt;y -->\n",
       "<g id=\"edge7\" class=\"edge\">\n",
       "<title>mu&#45;&gt;y</title>\n",
       "<path fill=\"none\" stroke=\"black\" d=\"M67.49,-157.79C66.39,-149.82 65.21,-141.34 64.06,-133.04\"/>\n",
       "<polygon fill=\"black\" stroke=\"black\" points=\"67.57,-132.84 62.72,-123.42 60.63,-133.8 67.57,-132.84\"/>\n",
       "</g>\n",
       "<!-- mu&#45;&gt;x -->\n",
       "<g id=\"edge4\" class=\"edge\">\n",
       "<title>mu&#45;&gt;x</title>\n",
       "<path fill=\"none\" stroke=\"black\" d=\"M96.62,-165.05C105.93,-152.27 116.73,-137.44 126.61,-123.88\"/>\n",
       "<polygon fill=\"black\" stroke=\"black\" points=\"129.31,-126.11 132.37,-115.97 123.66,-121.99 129.31,-126.11\"/>\n",
       "</g>\n",
       "<!-- alpha&#45;&gt;y -->\n",
       "<g id=\"edge8\" class=\"edge\">\n",
       "<title>alpha&#45;&gt;y</title>\n",
       "<path fill=\"none\" stroke=\"black\" d=\"M168.42,-171.39C148.9,-159.54 126.23,-144.83 107,-129.82 102.51,-126.31 97.96,-122.46 93.53,-118.52\"/>\n",
       "<polygon fill=\"black\" stroke=\"black\" points=\"96.06,-116.09 86.32,-111.92 91.33,-121.25 96.06,-116.09\"/>\n",
       "</g>\n",
       "<!-- alpha&#45;&gt;x -->\n",
       "<g id=\"edge5\" class=\"edge\">\n",
       "<title>alpha&#45;&gt;x</title>\n",
       "<path fill=\"none\" stroke=\"black\" d=\"M200.06,-169.27C193.9,-156.82 186.51,-141.87 179.61,-127.89\"/>\n",
       "<polygon fill=\"black\" stroke=\"black\" points=\"182.93,-126.71 175.36,-119.3 176.65,-129.81 182.93,-126.71\"/>\n",
       "</g>\n",
       "<!-- delta -->\n",
       "<g id=\"node4\" class=\"node\">\n",
       "<title>delta</title>\n",
       "<ellipse fill=\"none\" stroke=\"black\" cx=\"235\" cy=\"-315.79\" rx=\"40.48\" ry=\"40.66\"/>\n",
       "<text text-anchor=\"middle\" x=\"235\" y=\"-327.24\" font-family=\"Times,serif\" font-size=\"14.00\">delta</text>\n",
       "<text text-anchor=\"middle\" x=\"235\" y=\"-310.74\" font-family=\"Times,serif\" font-size=\"14.00\">~</text>\n",
       "<text text-anchor=\"middle\" x=\"235\" y=\"-294.24\" font-family=\"Times,serif\" font-size=\"14.00\">Cauchy</text>\n",
       "</g>\n",
       "<!-- delta&#45;&gt;alpha -->\n",
       "<g id=\"edge2\" class=\"edge\">\n",
       "<title>delta&#45;&gt;alpha</title>\n",
       "<path fill=\"none\" stroke=\"black\" d=\"M227.83,-275.43C225.65,-263.46 223.26,-250.33 221.09,-238.39\"/>\n",
       "<polygon fill=\"black\" stroke=\"black\" points=\"224.59,-238.09 219.35,-228.88 217.7,-239.35 224.59,-238.09\"/>\n",
       "</g>\n",
       "</g>\n",
       "</svg>\n"
      ],
      "text/plain": [
       "<graphviz.graphs.Digraph at 0x19477f500>"
      ]
     },
     "execution_count": 115,
     "metadata": {},
     "output_type": "execute_result"
    }
   ],
   "source": [
    "with pm.Model() as TwoSampleComp:\n",
    "    delta = pm.Cauchy('delta', alpha = 0, beta = 1)\n",
    "    mu = pm.Cauchy('mu', alpha = 0, beta = 1)\n",
    "    sigma = pm.HalfCauchy('sigma', beta = 1)\n",
    "    alpha = pm.Deterministic('alpha', delta * sigma)\n",
    "    x = pm.Normal('x', mu = mu + alpha / 2, sigma = sigma, observed = x_obs)\n",
    "    y = pm.Normal('y', mu = mu - alpha / 2, sigma = sigma, observed = y_obs)\n",
    "pm.model_to_graphviz(TwoSampleComp)\n"
   ]
  },
  {
   "cell_type": "code",
   "execution_count": 116,
   "metadata": {},
   "outputs": [
    {
     "name": "stderr",
     "output_type": "stream",
     "text": [
      "Initializing NUTS using jitter+adapt_diag...\n",
      "Multiprocess sampling (4 chains in 4 jobs)\n",
      "NUTS: [delta, mu, sigma]\n"
     ]
    },
    {
     "data": {
      "application/vnd.jupyter.widget-view+json": {
       "model_id": "c2a6ec64bd71427ea99d7251df8a06c6",
       "version_major": 2,
       "version_minor": 0
      },
      "text/plain": [
       "Output()"
      ]
     },
     "metadata": {},
     "output_type": "display_data"
    },
    {
     "data": {
      "text/html": [
       "<pre style=\"white-space:pre;overflow-x:auto;line-height:normal;font-family:Menlo,'DejaVu Sans Mono',consolas,'Courier New',monospace\"></pre>\n"
      ],
      "text/plain": []
     },
     "metadata": {},
     "output_type": "display_data"
    },
    {
     "name": "stderr",
     "output_type": "stream",
     "text": [
      "Sampling 4 chains for 1_000 tune and 2_000 draw iterations (4_000 + 8_000 draws total) took 26 seconds.\n"
     ]
    },
    {
     "data": {
      "text/html": [
       "<div>\n",
       "<style scoped>\n",
       "    .dataframe tbody tr th:only-of-type {\n",
       "        vertical-align: middle;\n",
       "    }\n",
       "\n",
       "    .dataframe tbody tr th {\n",
       "        vertical-align: top;\n",
       "    }\n",
       "\n",
       "    .dataframe thead th {\n",
       "        text-align: right;\n",
       "    }\n",
       "</style>\n",
       "<table border=\"1\" class=\"dataframe\">\n",
       "  <thead>\n",
       "    <tr style=\"text-align: right;\">\n",
       "      <th></th>\n",
       "      <th>mean</th>\n",
       "      <th>sd</th>\n",
       "      <th>hdi_3%</th>\n",
       "      <th>hdi_97%</th>\n",
       "      <th>mcse_mean</th>\n",
       "      <th>mcse_sd</th>\n",
       "      <th>ess_bulk</th>\n",
       "      <th>ess_tail</th>\n",
       "      <th>r_hat</th>\n",
       "    </tr>\n",
       "  </thead>\n",
       "  <tbody>\n",
       "    <tr>\n",
       "      <th>delta</th>\n",
       "      <td>-0.294</td>\n",
       "      <td>0.406</td>\n",
       "      <td>-1.108</td>\n",
       "      <td>0.411</td>\n",
       "      <td>0.004</td>\n",
       "      <td>0.004</td>\n",
       "      <td>9079.0</td>\n",
       "      <td>6174.0</td>\n",
       "      <td>1.0</td>\n",
       "    </tr>\n",
       "    <tr>\n",
       "      <th>mu</th>\n",
       "      <td>0.139</td>\n",
       "      <td>0.327</td>\n",
       "      <td>-0.476</td>\n",
       "      <td>0.756</td>\n",
       "      <td>0.004</td>\n",
       "      <td>0.004</td>\n",
       "      <td>8506.0</td>\n",
       "      <td>5663.0</td>\n",
       "      <td>1.0</td>\n",
       "    </tr>\n",
       "    <tr>\n",
       "      <th>sigma</th>\n",
       "      <td>1.564</td>\n",
       "      <td>0.258</td>\n",
       "      <td>1.123</td>\n",
       "      <td>2.051</td>\n",
       "      <td>0.003</td>\n",
       "      <td>0.003</td>\n",
       "      <td>7936.0</td>\n",
       "      <td>5299.0</td>\n",
       "      <td>1.0</td>\n",
       "    </tr>\n",
       "    <tr>\n",
       "      <th>alpha</th>\n",
       "      <td>-0.447</td>\n",
       "      <td>0.638</td>\n",
       "      <td>-1.610</td>\n",
       "      <td>0.763</td>\n",
       "      <td>0.007</td>\n",
       "      <td>0.007</td>\n",
       "      <td>9377.0</td>\n",
       "      <td>6293.0</td>\n",
       "      <td>1.0</td>\n",
       "    </tr>\n",
       "  </tbody>\n",
       "</table>\n",
       "</div>"
      ],
      "text/plain": [
       "        mean     sd  hdi_3%  hdi_97%  mcse_mean  mcse_sd  ess_bulk  ess_tail  \\\n",
       "delta -0.294  0.406  -1.108    0.411      0.004    0.004    9079.0    6174.0   \n",
       "mu     0.139  0.327  -0.476    0.756      0.004    0.004    8506.0    5663.0   \n",
       "sigma  1.564  0.258   1.123    2.051      0.003    0.003    7936.0    5299.0   \n",
       "alpha -0.447  0.638  -1.610    0.763      0.007    0.007    9377.0    6293.0   \n",
       "\n",
       "       r_hat  \n",
       "delta    1.0  \n",
       "mu       1.0  \n",
       "sigma    1.0  \n",
       "alpha    1.0  "
      ]
     },
     "execution_count": 116,
     "metadata": {},
     "output_type": "execute_result"
    }
   ],
   "source": [
    "with TwoSampleComp:\n",
    "    trace = pm.sample(2000)\n",
    "az.summary(trace)"
   ]
  },
  {
   "cell_type": "code",
   "execution_count": 107,
   "metadata": {},
   "outputs": [
    {
     "data": {
      "text/plain": [
       "<matplotlib.legend.Legend at 0x1963fe1e0>"
      ]
     },
     "execution_count": 107,
     "metadata": {},
     "output_type": "execute_result"
    },
    {
     "data": {
      "image/png": "[encoded data removed]",
      "text/plain": [
       "<Figure size 640x480 with 1 Axes>"
      ]
     },
     "metadata": {},
     "output_type": "display_data"
    }
   ],
   "source": [
    "x_test = np.arange(-5, 5, 0.1)\n",
    "prior_pdf = cauchy.pdf\n",
    "posterior_pdf = gaussian_kde(trace.posterior['delta'].values.flatten())\n",
    "plt.plot(x_test, prior_pdf(x_test), label = 'prior dist')\n",
    "plt.plot(x_test, posterior_pdf(x_test), label = 'posterior dist')\n",
    "plt.plot([0, 0], [prior_pdf(0), posterior_pdf(0)[0]])\n",
    "plt.title(f'$BF{10}$ = {prior_pdf(0) / posterior_pdf(0)[0]:.3f}')\n",
    "plt.legend()"
   ]
  },
  {
   "cell_type": "code",
   "execution_count": 113,
   "metadata": {},
   "outputs": [
    {
     "name": "stderr",
     "output_type": "stream",
     "text": [
      "Initializing NUTS using jitter+adapt_diag...\n",
      "Multiprocess sampling (4 chains in 4 jobs)\n",
      "NUTS: [delta, mu, sigma1, sigma2]\n"
     ]
    },
    {
     "data": {
      "application/vnd.jupyter.widget-view+json": {
       "model_id": "76fb6faa3da84dc0bd47ebe72edbf463",
       "version_major": 2,
       "version_minor": 0
      },
      "text/plain": [
       "Output()"
      ]
     },
     "metadata": {},
     "output_type": "display_data"
    },
    {
     "data": {
      "text/html": [
       "<pre style=\"white-space:pre;overflow-x:auto;line-height:normal;font-family:Menlo,'DejaVu Sans Mono',consolas,'Courier New',monospace\"></pre>\n"
      ],
      "text/plain": []
     },
     "metadata": {},
     "output_type": "display_data"
    },
    {
     "name": "stderr",
     "output_type": "stream",
     "text": [
      "Sampling 4 chains for 1_000 tune and 2_000 draw iterations (4_000 + 8_000 draws total) took 26 seconds.\n",
      "There were 1 divergences after tuning. Increase `target_accept` or reparameterize.\n"
     ]
    },
    {
     "data": {
      "text/html": [
       "<div>\n",
       "<style scoped>\n",
       "    .dataframe tbody tr th:only-of-type {\n",
       "        vertical-align: middle;\n",
       "    }\n",
       "\n",
       "    .dataframe tbody tr th {\n",
       "        vertical-align: top;\n",
       "    }\n",
       "\n",
       "    .dataframe thead th {\n",
       "        text-align: right;\n",
       "    }\n",
       "</style>\n",
       "<table border=\"1\" class=\"dataframe\">\n",
       "  <thead>\n",
       "    <tr style=\"text-align: right;\">\n",
       "      <th></th>\n",
       "      <th>mean</th>\n",
       "      <th>sd</th>\n",
       "      <th>hdi_3%</th>\n",
       "      <th>hdi_97%</th>\n",
       "      <th>mcse_mean</th>\n",
       "      <th>mcse_sd</th>\n",
       "      <th>ess_bulk</th>\n",
       "      <th>ess_tail</th>\n",
       "      <th>r_hat</th>\n",
       "    </tr>\n",
       "  </thead>\n",
       "  <tbody>\n",
       "    <tr>\n",
       "      <th>delta</th>\n",
       "      <td>-0.168</td>\n",
       "      <td>0.218</td>\n",
       "      <td>-0.578</td>\n",
       "      <td>0.233</td>\n",
       "      <td>0.003</td>\n",
       "      <td>0.002</td>\n",
       "      <td>5644.0</td>\n",
       "      <td>5206.0</td>\n",
       "      <td>1.0</td>\n",
       "    </tr>\n",
       "    <tr>\n",
       "      <th>mu</th>\n",
       "      <td>0.126</td>\n",
       "      <td>0.330</td>\n",
       "      <td>-0.523</td>\n",
       "      <td>0.713</td>\n",
       "      <td>0.005</td>\n",
       "      <td>0.004</td>\n",
       "      <td>4881.0</td>\n",
       "      <td>4828.0</td>\n",
       "      <td>1.0</td>\n",
       "    </tr>\n",
       "    <tr>\n",
       "      <th>sigma1</th>\n",
       "      <td>1.084</td>\n",
       "      <td>0.269</td>\n",
       "      <td>0.638</td>\n",
       "      <td>1.549</td>\n",
       "      <td>0.004</td>\n",
       "      <td>0.006</td>\n",
       "      <td>6129.0</td>\n",
       "      <td>4218.0</td>\n",
       "      <td>1.0</td>\n",
       "    </tr>\n",
       "    <tr>\n",
       "      <th>sigma2</th>\n",
       "      <td>1.972</td>\n",
       "      <td>0.469</td>\n",
       "      <td>1.193</td>\n",
       "      <td>2.819</td>\n",
       "      <td>0.007</td>\n",
       "      <td>0.010</td>\n",
       "      <td>5772.0</td>\n",
       "      <td>4497.0</td>\n",
       "      <td>1.0</td>\n",
       "    </tr>\n",
       "    <tr>\n",
       "      <th>alpha</th>\n",
       "      <td>-0.499</td>\n",
       "      <td>0.674</td>\n",
       "      <td>-1.839</td>\n",
       "      <td>0.700</td>\n",
       "      <td>0.009</td>\n",
       "      <td>0.008</td>\n",
       "      <td>5645.0</td>\n",
       "      <td>5160.0</td>\n",
       "      <td>1.0</td>\n",
       "    </tr>\n",
       "  </tbody>\n",
       "</table>\n",
       "</div>"
      ],
      "text/plain": [
       "         mean     sd  hdi_3%  hdi_97%  mcse_mean  mcse_sd  ess_bulk  ess_tail  \\\n",
       "delta  -0.168  0.218  -0.578    0.233      0.003    0.002    5644.0    5206.0   \n",
       "mu      0.126  0.330  -0.523    0.713      0.005    0.004    4881.0    4828.0   \n",
       "sigma1  1.084  0.269   0.638    1.549      0.004    0.006    6129.0    4218.0   \n",
       "sigma2  1.972  0.469   1.193    2.819      0.007    0.010    5772.0    4497.0   \n",
       "alpha  -0.499  0.674  -1.839    0.700      0.009    0.008    5645.0    5160.0   \n",
       "\n",
       "        r_hat  \n",
       "delta     1.0  \n",
       "mu        1.0  \n",
       "sigma1    1.0  \n",
       "sigma2    1.0  \n",
       "alpha     1.0  "
      ]
     },
     "execution_count": 113,
     "metadata": {},
     "output_type": "execute_result"
    }
   ],
   "source": [
    "# Exercise 8.3.1\n",
    "## 假定方差不同引入了额外的变异，更难得到结论\n",
    "with pm.Model() as TwoSampleComp:\n",
    "    delta = pm.Cauchy('delta', alpha = 0, beta = 1)\n",
    "    mu = pm.Cauchy('mu', alpha = 0, beta = 1)\n",
    "    sigma1 = pm.HalfCauchy('sigma1', beta = 1)\n",
    "    sigma2 = pm.HalfCauchy('sigma2', beta = 1)\n",
    "    sigma = pm.Deterministic('sigma', (sigma1**2 + sigma2**2)**0.5)\n",
    "    x = pm.Normal('x', mu = mu + delta * sigma / 2, sigma = sigma1, observed = x_obs)\n",
    "    y = pm.Normal('y', mu = mu - delta * sigma / 2, sigma = sigma2, observed = y_obs)\n",
    "    trace = pm.sample(2000)\n",
    "az.summary(trace)"
   ]
  },
  {
   "cell_type": "code",
   "execution_count": null,
   "metadata": {},
   "outputs": [],
   "source": [
    "x_test = np.arange(-5, 5, 0.1)\n",
    "prior_pdf = cauchy.pdf\n",
    "posterior_pdf = gaussian_kde(trace.posterior['delta'].values.flatten())\n",
    "plt.plot(x_test, prior_pdf(x_test), label = 'prior dist')\n",
    "plt.plot(x_test, posterior_pdf(x_test), label = 'posterior dist')\n",
    "plt.plot([0, 0], [prior_pdf(0), posterior_pdf(0)[0]])\n",
    "plt.title(f'$BF{10}$ = {prior_pdf(0) / posterior_pdf(0)[0]:.3f}')\n",
    "plt.legend()"
   ]
  }
 ],
 "metadata": {
  "kernelspec": {
   "display_name": "pymc5",
   "language": "python",
   "name": "python3"
  },
  "language_info": {
   "codemirror_mode": {
    "name": "ipython",
    "version": 3
   },
   "file_extension": ".py",
   "mimetype": "text/x-python",
   "name": "python",
   "nbconvert_exporter": "python",
   "pygments_lexer": "ipython3",
   "version": "3.12.9"
  }
 },
 "nbformat": 4,
 "nbformat_minor": 2
}
